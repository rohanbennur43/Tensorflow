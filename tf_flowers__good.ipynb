{
  "nbformat": 4,
  "nbformat_minor": 0,
  "metadata": {
    "colab": {
      "name": "tf_flowers _good.ipynb",
      "provenance": [],
      "authorship_tag": "ABX9TyPZBC93L/yeH0MmVJ8tsMUv",
      "include_colab_link": true
    },
    "kernelspec": {
      "name": "python3",
      "display_name": "Python 3"
    },
    "accelerator": "GPU"
  },
  "cells": [
    {
      "cell_type": "markdown",
      "metadata": {
        "id": "view-in-github",
        "colab_type": "text"
      },
      "source": [
        "<a href=\"https://colab.research.google.com/github/rohanbennur43/Tensorflow/blob/master/tf_flowers__good.ipynb\" target=\"_parent\"><img src=\"https://colab.research.google.com/assets/colab-badge.svg\" alt=\"Open In Colab\"/></a>"
      ]
    },
    {
      "cell_type": "code",
      "metadata": {
        "id": "4zdXUV6K9Il8",
        "colab_type": "code",
        "colab": {}
      },
      "source": [
        "import tensorflow as tf\n",
        "from tensorflow.keras.preprocessing.image import ImageDataGenerator\n",
        "from tensorflow.keras.models import Sequential\n",
        "from tensorflow.keras.layers import Conv2D,MaxPooling2D,Dense,Flatten,Dropout\n",
        "import tensorflow_datasets as tfds\n",
        "import numpy as np\n",
        "train_data,info=tfds.load('tf_flowers',as_supervised=True,with_info=True,split='train[:90%]')\n",
        "val_data=tfds.load('tf_flowers',as_supervised=True,split='train[90%:]')\n",
        "\n",
        "train_gen=ImageDataGenerator(rotation_range=40,width_shift_range=0.1,height_shift_range=0.1,fill_mode='nearest',shear_range=0.2)\n",
        "val_gen=ImageDataGenerator(rescale=1.0/255)\n",
        "\n"
      ],
      "execution_count": null,
      "outputs": []
    },
    {
      "cell_type": "code",
      "metadata": {
        "id": "ONX2Z1Mv-gTL",
        "colab_type": "code",
        "colab": {}
      },
      "source": [
        "train_images=[]\n",
        "train_labels=[]\n",
        "for i in train_data:\n",
        "    image1=i[0].numpy()/255\n",
        "    image1=tf.image.resize(image1,(250,250))\n",
        "    train_images.append(np.array(image1))\n",
        "    train_labels.append(int(i[1].numpy()))"
      ],
      "execution_count": null,
      "outputs": []
    },
    {
      "cell_type": "code",
      "metadata": {
        "id": "CmQfqFBk9QOd",
        "colab_type": "code",
        "colab": {}
      },
      "source": [
        "train_images=np.array(train_images)\n",
        "\n",
        "train_labels=np.array(train_labels)"
      ],
      "execution_count": null,
      "outputs": []
    },
    {
      "cell_type": "code",
      "metadata": {
        "id": "v4SgncsdDQiC",
        "colab_type": "code",
        "colab": {}
      },
      "source": [
        "val_images=[]\n",
        "val_labels=[]\n",
        "\n",
        "for i in val_data:\n",
        "    image1=i[0].numpy()/255\n",
        "    image1=tf.image.resize(image1,(250,250))\n",
        "    val_images.append(np.array(image1))\n",
        "    val_labels.append(int(i[1].numpy()))\n",
        "val_images=np.array(val_images)\n",
        "val_labels=np.array(val_labels)"
      ],
      "execution_count": null,
      "outputs": []
    },
    {
      "cell_type": "code",
      "metadata": {
        "id": "B9jevBDd-pAq",
        "colab_type": "code",
        "colab": {
          "base_uri": "https://localhost:8080/",
          "height": 374
        },
        "outputId": "57ece0db-2e44-4442-b4a9-03805d4cde16"
      },
      "source": [
        "model=Sequential([Conv2D(32,(3,3),(1,1),activation='relu'),\n",
        "                  MaxPooling2D((2,2)),\n",
        "\n",
        "                  Conv2D(64,(3,3),(1,1),activation='relu'),\n",
        "                  MaxPooling2D((2,2)),\n",
        "\n",
        "                  Conv2D(128,(3,3),(1,1),activation='relu'),\n",
        "                  MaxPooling2D((2,2)),\n",
        "\n",
        "                  Flatten(),\n",
        "                  Dense(10,activation='relu'),\n",
        "                  \n",
        "                  Dense(64,activation='relu'),\n",
        "                  Dropout(0.15),\n",
        "                  Dense(5,activation='softmax')\n",
        "\n",
        "\n",
        "                   ])\n",
        "model.compile(loss='sparse_categorical_crossentropy',optimizer='adam',metrics=['accuracy'])\n",
        "model.fit(train_gen.flow(train_images,train_labels),epochs=10,batch_size=32,validation_data=(val_images,val_labels))"
      ],
      "execution_count": null,
      "outputs": [
        {
          "output_type": "stream",
          "text": [
            "Epoch 1/10\n",
            "104/104 [==============================] - 43s 418ms/step - loss: 1.4726 - accuracy: 0.3433 - val_loss: 1.1432 - val_accuracy: 0.4905\n",
            "Epoch 2/10\n",
            "104/104 [==============================] - 43s 415ms/step - loss: 1.2060 - accuracy: 0.4641 - val_loss: 1.0891 - val_accuracy: 0.5450\n",
            "Epoch 3/10\n",
            "104/104 [==============================] - 43s 416ms/step - loss: 1.1117 - accuracy: 0.5265 - val_loss: 0.9619 - val_accuracy: 0.6213\n",
            "Epoch 4/10\n",
            "104/104 [==============================] - 43s 413ms/step - loss: 0.9975 - accuracy: 0.5940 - val_loss: 0.8424 - val_accuracy: 0.6866\n",
            "Epoch 5/10\n",
            "104/104 [==============================] - 43s 411ms/step - loss: 0.9144 - accuracy: 0.6473 - val_loss: 0.7782 - val_accuracy: 0.7003\n",
            "Epoch 6/10\n",
            "104/104 [==============================] - 43s 409ms/step - loss: 0.8873 - accuracy: 0.6567 - val_loss: 0.7840 - val_accuracy: 0.6812\n",
            "Epoch 7/10\n",
            "104/104 [==============================] - 42s 408ms/step - loss: 0.8271 - accuracy: 0.6794 - val_loss: 0.7036 - val_accuracy: 0.7112\n",
            "Epoch 8/10\n",
            "104/104 [==============================] - 42s 406ms/step - loss: 0.7989 - accuracy: 0.7021 - val_loss: 0.7153 - val_accuracy: 0.7057\n",
            "Epoch 9/10\n",
            "104/104 [==============================] - 42s 404ms/step - loss: 0.7835 - accuracy: 0.7057 - val_loss: 0.6659 - val_accuracy: 0.7520\n",
            "Epoch 10/10\n",
            "104/104 [==============================] - 42s 407ms/step - loss: 0.7423 - accuracy: 0.7224 - val_loss: 0.6655 - val_accuracy: 0.7602\n"
          ],
          "name": "stdout"
        },
        {
          "output_type": "execute_result",
          "data": {
            "text/plain": [
              "<tensorflow.python.keras.callbacks.History at 0x7f28fbba1390>"
            ]
          },
          "metadata": {
            "tags": []
          },
          "execution_count": 28
        }
      ]
    },
    {
      "cell_type": "code",
      "metadata": {
        "id": "xF4_oWWMAU8i",
        "colab_type": "code",
        "colab": {
          "base_uri": "https://localhost:8080/",
          "height": 374
        },
        "outputId": "5d456933-6a03-4e04-bb71-64d0d250cd01"
      },
      "source": [
        "model.compile(loss='sparse_categorical_crossentropy',optimizer='adam',metrics=['accuracy'])\n",
        "model.fit(train_gen.flow(train_images,train_labels),epochs=10,batch_size=32,validation_data=(val_images,val_labels))"
      ],
      "execution_count": null,
      "outputs": [
        {
          "output_type": "stream",
          "text": [
            "Epoch 1/10\n",
            "104/104 [==============================] - 41s 395ms/step - loss: 0.2058 - accuracy: 0.9289 - val_loss: 0.5992 - val_accuracy: 0.8392\n",
            "Epoch 2/10\n",
            "104/104 [==============================] - 41s 398ms/step - loss: 0.1572 - accuracy: 0.9455 - val_loss: 0.5988 - val_accuracy: 0.8474\n",
            "Epoch 3/10\n",
            "104/104 [==============================] - 42s 399ms/step - loss: 0.1783 - accuracy: 0.9401 - val_loss: 0.7440 - val_accuracy: 0.8474\n",
            "Epoch 4/10\n",
            "104/104 [==============================] - 41s 396ms/step - loss: 0.1913 - accuracy: 0.9349 - val_loss: 0.7133 - val_accuracy: 0.8392\n",
            "Epoch 5/10\n",
            "104/104 [==============================] - 42s 401ms/step - loss: 0.1746 - accuracy: 0.9398 - val_loss: 0.7132 - val_accuracy: 0.8392\n",
            "Epoch 6/10\n",
            "104/104 [==============================] - 43s 418ms/step - loss: 0.1795 - accuracy: 0.9388 - val_loss: 0.8449 - val_accuracy: 0.8420\n",
            "Epoch 7/10\n",
            "104/104 [==============================] - 42s 406ms/step - loss: 0.1851 - accuracy: 0.9385 - val_loss: 0.6148 - val_accuracy: 0.8610\n",
            "Epoch 8/10\n",
            "104/104 [==============================] - 42s 403ms/step - loss: 0.1560 - accuracy: 0.9458 - val_loss: 0.6372 - val_accuracy: 0.8501\n",
            "Epoch 9/10\n",
            "104/104 [==============================] - 42s 406ms/step - loss: 0.1793 - accuracy: 0.9367 - val_loss: 0.7022 - val_accuracy: 0.8283\n",
            "Epoch 10/10\n",
            "104/104 [==============================] - 43s 410ms/step - loss: 0.1920 - accuracy: 0.9325 - val_loss: 0.7385 - val_accuracy: 0.8338\n"
          ],
          "name": "stdout"
        },
        {
          "output_type": "execute_result",
          "data": {
            "text/plain": [
              "<tensorflow.python.keras.callbacks.History at 0x7f28ea5ca470>"
            ]
          },
          "metadata": {
            "tags": []
          },
          "execution_count": 37
        }
      ]
    },
    {
      "cell_type": "code",
      "metadata": {
        "id": "PieRF956ac1R",
        "colab_type": "code",
        "colab": {}
      },
      "source": [
        ""
      ],
      "execution_count": null,
      "outputs": []
    }
  ]
}